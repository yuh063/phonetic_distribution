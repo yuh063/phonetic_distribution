{
 "cells": [
  {
   "cell_type": "code",
   "execution_count": 77,
   "metadata": {},
   "outputs": [],
   "source": [
    "import csv\n",
    "import itertools\n",
    "\n",
    "from collections import Counter"
   ]
  },
  {
   "cell_type": "code",
   "execution_count": 60,
   "metadata": {},
   "outputs": [],
   "source": [
    "# helper function\n",
    "def hasNumbers(inputString):\n",
    "    return any(char.isdigit() for char in inputString)\n",
    "\n",
    "def utf8_to_acsii(word):\n",
    "    word = word.replace(\"\\xe2\\x80\\x99\", \"'\")\n",
    "    word = word.replace(\"\\xe2\\x80\\x9c\", \"\\\"\")\n",
    "    word = word.replace(\"\\xe2\\x80\\x9d\", \"\\\"\")\n",
    "    word = word.replace(\"\\xe2\\x80\\xa6\", '')\n",
    "    word = word.replace(\"\\xe2\\x80\\x94\", '')\n",
    "    word = word.replace(\"\\xe2\\x80\\x98\", '')\n",
    "    return word"
   ]
  },
  {
   "cell_type": "code",
   "execution_count": 74,
   "metadata": {},
   "outputs": [],
   "source": [
    "phonetic_count = {}\n",
    "with open('cmudict.dict') as csvfile:\n",
    "    readCSV = csv.reader(csvfile, delimiter=' ')\n",
    "    for num,row in enumerate(readCSV):\n",
    "        if not hasNumbers(row[0]):\n",
    "            phonetic_count[row[0]] = row[1:]           "
   ]
  },
  {
   "cell_type": "code",
   "execution_count": 69,
   "metadata": {},
   "outputs": [],
   "source": [
    "remove_punctuation = '!\"#$%&()*+,./:;<=>?@[\\]^_`{|}~'\n",
    "count = 0\n",
    "word_count = 0\n",
    "known_word = []\n",
    "test = []\n",
    "\n",
    "with open('harry_potter.txt','r') as f:\n",
    "    for line in f:\n",
    "        for word in line.split():\n",
    "            word = utf8_to_acsii(word)\n",
    "            word = word.translate(None, remove_punctuation)\n",
    "            word = word.lower()\n",
    "            if word == '':\n",
    "                continue\n",
    "            word_count += 1\n",
    "            if word not in Phonetic_count:\n",
    "                if '-' in word:\n",
    "                    word_count -= 1\n",
    "                    splited_words = word.split('-')\n",
    "                    for splited_word in splited_words:\n",
    "                        word_count += 1\n",
    "                        if splited_word not in Phonetic_count:\n",
    "                            count += 1\n",
    "                            test.append(splited_word)\n",
    "                else:\n",
    "                    count += 1\n",
    "                    test.append(word)\n",
    "            else:\n",
    "                known_word.append(word)"
   ]
  },
  {
   "cell_type": "code",
   "execution_count": 93,
   "metadata": {},
   "outputs": [],
   "source": [
    "phonetic_total = {}\n",
    "known_word_counts = Counter(known_word)\n",
    "phonetic = list(itertools.chain.from_iterable(phonetic_count[i]*known_word_counts[i] for i in known_word_counts))\n",
    "phonetic_counts = Counter(phonetic)"
   ]
  },
  {
   "cell_type": "code",
   "execution_count": 64,
   "metadata": {},
   "outputs": [
    {
     "data": {
      "text/plain": [
       "0.029636168097238288"
      ]
     },
     "execution_count": 64,
     "metadata": {},
     "output_type": "execute_result"
    }
   ],
   "source": [
    "(count)/(word_count-0.)"
   ]
  },
  {
   "cell_type": "code",
   "execution_count": 94,
   "metadata": {},
   "outputs": [
    {
     "data": {
      "text/plain": [
       "Counter({'AA0': 105,\n",
       "         'AA1': 13710,\n",
       "         'AA2': 272,\n",
       "         'AE0': 148,\n",
       "         'AE1': 17601,\n",
       "         'AE2': 221,\n",
       "         'AH0': 40907,\n",
       "         'AH1': 15240,\n",
       "         'AH2': 438,\n",
       "         'AO0': 180,\n",
       "         'AO1': 9211,\n",
       "         'AO2': 1231,\n",
       "         'AW0': 28,\n",
       "         'AW1': 4487,\n",
       "         'AW2': 151,\n",
       "         'AY0': 141,\n",
       "         'AY1': 10236,\n",
       "         'AY2': 474,\n",
       "         'B': 12015,\n",
       "         'CH': 2959,\n",
       "         'D': 38675,\n",
       "         'DH': 20165,\n",
       "         'EH0': 396,\n",
       "         'EH1': 21798,\n",
       "         'EH2': 513,\n",
       "         'ER0': 11170,\n",
       "         'ER1': 4671,\n",
       "         'ER2': 48,\n",
       "         'EY0': 28,\n",
       "         'EY1': 8314,\n",
       "         'EY2': 618,\n",
       "         'F': 11242,\n",
       "         'G': 6074,\n",
       "         'HH': 22356,\n",
       "         'IH0': 16281,\n",
       "         'IH1': 21583,\n",
       "         'IH2': 1517,\n",
       "         'IY0': 12414,\n",
       "         'IY1': 14057,\n",
       "         'IY2': 333,\n",
       "         'JH': 2547,\n",
       "         'K': 18289,\n",
       "         'L': 26761,\n",
       "         'M': 18678,\n",
       "         'N': 44009,\n",
       "         'NG': 9160,\n",
       "         'OW0': 732,\n",
       "         'OW1': 9916,\n",
       "         'OW2': 247,\n",
       "         'OY0': 4,\n",
       "         'OY1': 930,\n",
       "         'OY2': 7,\n",
       "         'P': 11638,\n",
       "         'R': 32140,\n",
       "         'S': 29876,\n",
       "         'SH': 4134,\n",
       "         'T': 48250,\n",
       "         'TH': 3484,\n",
       "         'UH0': 11,\n",
       "         'UH1': 3928,\n",
       "         'UH2': 49,\n",
       "         'UW0': 979,\n",
       "         'UW1': 12343,\n",
       "         'UW2': 189,\n",
       "         'V': 11309,\n",
       "         'W': 15989,\n",
       "         'Y': 4693,\n",
       "         'Z': 17200,\n",
       "         'ZH': 220})"
      ]
     },
     "execution_count": 94,
     "metadata": {},
     "output_type": "execute_result"
    }
   ],
   "source": [
    "phonetic_counts"
   ]
  },
  {
   "cell_type": "code",
   "execution_count": null,
   "metadata": {},
   "outputs": [],
   "source": []
  }
 ],
 "metadata": {
  "kernelspec": {
   "display_name": "Python 2",
   "language": "python",
   "name": "python2"
  },
  "language_info": {
   "codemirror_mode": {
    "name": "ipython",
    "version": 2
   },
   "file_extension": ".py",
   "mimetype": "text/x-python",
   "name": "python",
   "nbconvert_exporter": "python",
   "pygments_lexer": "ipython2",
   "version": "2.7.16"
  }
 },
 "nbformat": 4,
 "nbformat_minor": 2
}
